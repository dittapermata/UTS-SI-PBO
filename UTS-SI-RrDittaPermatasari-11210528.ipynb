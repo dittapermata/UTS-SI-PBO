{
 "cells": [
  {
   "cell_type": "markdown",
   "metadata": {
    "id": "207NNMC_vMNX"
   },
   "source": [
    "## Soal UTS I\n",
    "Buatlah Program dengan bahasa python untuk menampilkan nama dan NIM anda pada halaman notebook ini"
   ]
  },
  {
   "cell_type": "code",
   "execution_count": 1,
   "metadata": {
    "id": "ayXUPo6SvaqJ"
   },
   "outputs": [
    {
     "name": "stdout",
     "output_type": "stream",
     "text": [
      "Nama : Rr. Ditta Permatasari\n",
      "NIM  : 11210528\n",
      "Prodi: Sistem Informasi\n"
     ]
    }
   ],
   "source": [
    "#Jawab\n",
    "#UTS I\n",
    "print(\"Nama : Rr. Ditta Permatasari\")\n",
    "print(\"NIM  : 11210528\")\n",
    "print(\"Prodi: Sistem Informasi\")"
   ]
  },
  {
   "cell_type": "markdown",
   "metadata": {
    "id": "txgZNIDhuEvS"
   },
   "source": [
    "## Soal UTS II\n",
    "\n",
    "\n",
    "Kerjakan salah satu dari dua soal berikut (Soal A atau B) sesuai dengan digit terakhir NIM anda.\n",
    "\n",
    "Jika Digit terakhir NIM anda adalah ganjil atau nol(0) kerjakanlan Soal A berikut ini\n",
    "\n",
    "**Soal A**\n",
    "\n",
    "Bualah aplikasi interaktif dengan pemrograman Python yang menerima input variable dari keyboard untuk mencari luas bangun datar lingkaran.\n",
    "\n",
    "Dengan tampilan sebagai berikut:\n",
    "```\n",
    "Masukan Diameter : \n",
    "Luas Lingkaran   :\n",
    "```\n",
    "Jika Digit terakhir NIM anda adalah genap kerjakanlan Soal B berikut ini \n",
    "\n",
    "**Soal B**\n",
    "\n",
    "Bualah aplikasi interaktif dengan pemrograman Python yang menerima input variable dari keyboard untuk mencari keliling bangun datar lingkaran.\n",
    "\n",
    "Dengan tampilan sebagai berikut:\n",
    "```\n",
    "Masukan Diameter : \n",
    "Keliling Lingkaran   :\n",
    "```"
   ]
  },
  {
   "cell_type": "markdown",
   "metadata": {
    "id": "L5pweWJ4vHe7"
   },
   "source": []
  },
  {
   "cell_type": "code",
   "execution_count": 2,
   "metadata": {
    "id": "mJ2YcXznurKe"
   },
   "outputs": [
    {
     "name": "stdout",
     "output_type": "stream",
     "text": [
      "masukan JariJari: 21\n",
      "Keliling:  131.88\n"
     ]
    }
   ],
   "source": [
    "#UTS II_SOAL B\n",
    "#Program Menghitung Keliling Bangun Datar Lingkaran\n",
    "\n",
    "import math\n",
    "\n",
    "#Deklarasi\n",
    "Keliling = 0.0\n",
    "JariJari = 0.0\n",
    "phi = 3.14\n",
    "\n",
    "JariJari = input(\"masukan JariJari: \")\n",
    "JariJari = float(JariJari)\n",
    "\n",
    "Keliling = 2*phi*JariJari\n",
    "print(\"Keliling: \", Keliling)"
   ]
  },
  {
   "cell_type": "code",
   "execution_count": null,
   "metadata": {},
   "outputs": [],
   "source": []
  }
 ],
 "metadata": {
  "colab": {
   "collapsed_sections": [],
   "name": "SOAL_UTS_SI.ipynb",
   "provenance": []
  },
  "kernelspec": {
   "display_name": "Python 3 (ipykernel)",
   "language": "python",
   "name": "python3"
  },
  "language_info": {
   "codemirror_mode": {
    "name": "ipython",
    "version": 3
   },
   "file_extension": ".py",
   "mimetype": "text/x-python",
   "name": "python",
   "nbconvert_exporter": "python",
   "pygments_lexer": "ipython3",
   "version": "3.8.3"
  }
 },
 "nbformat": 4,
 "nbformat_minor": 1
}
